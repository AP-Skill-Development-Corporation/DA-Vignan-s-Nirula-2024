{
 "cells": [
  {
   "cell_type": "markdown",
   "id": "b747bb76",
   "metadata": {},
   "source": [
    "<h4 style=\"color:red\"></h4>\n",
    "<h3 style=\"color:white;background-color:white\"></h3>\n",
    "<img src=\"img2.jpg\" heigth=\"100px\" width=\"120px\" align=\"right\"></img>\n",
    "\n",
    "### Ramijun Shaik\n",
    "\n",
    "**Mobile No**:7981314690\n",
    "\n",
    "**Email id**: [22nn1a0553ramijun@gmail.com]\n",
    "\n",
    "**Address**: H-NO:1-324,Gangavaram,Gurazala,Palnadu,522415.\n",
    "\n",
    "## Educational Qualification:\n",
    "\n",
    "- Intermediate from AP Model school & Junior College,2022.\n",
    "\n",
    "- 10th from AP Model school & Junior College,2020.\n",
    "\n",
    "## professional Skills:\n",
    "\n",
    "- **Language**:C,C++,PYTHON & Basics of JAVA.\n",
    "- Hardworking\n",
    "- Basic kowledge of Computer.\n",
    "\n",
    "## Project:\n",
    "\n",
    "- Andhra Pradesh  State Skill Developm.ent Corporation.\n",
    "\n",
    "## Areas of interest:\n",
    "\n",
    "- Sports\n",
    "- Data Analysis\n",
    "- To become a Software employee in IBM"
   ]
  },
  {
   "cell_type": "code",
   "execution_count": null,
   "id": "b5d86d14",
   "metadata": {},
   "outputs": [],
   "source": []
  }
 ],
 "metadata": {
  "kernelspec": {
   "display_name": "Python 3 (ipykernel)",
   "language": "python",
   "name": "python3"
  },
  "language_info": {
   "codemirror_mode": {
    "name": "ipython",
    "version": 3
   },
   "file_extension": ".py",
   "mimetype": "text/x-python",
   "name": "python",
   "nbconvert_exporter": "python",
   "pygments_lexer": "ipython3",
   "version": "3.11.5"
  }
 },
 "nbformat": 4,
 "nbformat_minor": 5
}
