{
 "cells": [
  {
   "cell_type": "markdown",
   "id": "c67c5d29",
   "metadata": {},
   "source": [
    "#### Resume\n",
    "\n",
    "- Profile\n",
    "    <img src=\"harshi.jpg\" height=\"100px\" width=\"60px\"></img>\n",
    "- Email id\n",
    "   -  harshithasadineni8@gmail.com\n",
    "- Phone number\n",
    "   - 7416546287\n",
    "- Name\n",
    "   - Sadineni Harshitha\n",
    "- Educational Qualification\n",
    "   - vignan's nirula,CSE\n",
    "     - CGPA7.35\n",
    "   - Lakshya junior college\n",
    "     - percentage-66%\n",
    "   - Narayana English medium school\n",
    "     - percentage-98%\n",
    "- Skills\n",
    "    - C,C++,PYTHON\n",
    "- Projects\n",
    "   - Community Servive Project\n",
    "      - Effects of Social media\n",
    "- Area of Interest\n",
    "   - Web development\n",
    "   - Cyber Security\n",
    "- Certificates\n",
    "  - Introduction to C by Sololearn\n",
    "  - Problem solving through C by Hacker Rank\n",
    "  - Problem solving through Python by Hacker Rank\n",
    "  - Programming Fundamentals using python Part-1 by Infosys\n",
    "  - Programming Fundamentals using python Part-2 by Infosys\n",
    "  - Basics of Python by Infosys\n",
    "  - Data structures and Algorithms using Java\n",
    "  - Programming using Java"
   ]
  },
  {
   "cell_type": "code",
   "execution_count": null,
   "id": "677a6fe6",
   "metadata": {},
   "outputs": [],
   "source": []
  },
  {
   "cell_type": "code",
   "execution_count": null,
   "id": "f30caab4",
   "metadata": {},
   "outputs": [],
   "source": []
  }
 ],
 "metadata": {
  "kernelspec": {
   "display_name": "Python 3 (ipykernel)",
   "language": "python",
   "name": "python3"
  },
  "language_info": {
   "codemirror_mode": {
    "name": "ipython",
    "version": 3
   },
   "file_extension": ".py",
   "mimetype": "text/x-python",
   "name": "python",
   "nbconvert_exporter": "python",
   "pygments_lexer": "ipython3",
   "version": "3.11.5"
  }
 },
 "nbformat": 4,
 "nbformat_minor": 5
}
