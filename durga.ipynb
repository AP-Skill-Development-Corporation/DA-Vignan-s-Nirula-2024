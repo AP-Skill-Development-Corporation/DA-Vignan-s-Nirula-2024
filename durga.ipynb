{
 "cells": [
  {
   "cell_type": "markdown",
   "id": "40571485",
   "metadata": {},
   "source": [
    "### Resume\n",
    "- *profile*\n",
    "    -*Image:*\n",
    "       - <img src=\"MANI.jpg\" height=\"100px\" width=\"200px\"></img>\n",
    "    - *Name:*\n",
    "       - Gunja Durga\n",
    "    - *Date of Birth:*\n",
    "        - 07/07/2004\n",
    "    - *phone No:*\n",
    "        - +916304818981\n",
    "    - *Email-id:*\n",
    "        - gunjadurga999@gmail.com\n",
    "- *Educational Qualification:*\n",
    "    - *SSC*\n",
    "        - Geetha Gurukulam High School\n",
    "        - passing year-2020\n",
    "        - percentage-90\n",
    "    - *Intermediate*\n",
    "        -Sri Vikas Junior College\n",
    "        - passing year-2022\n",
    "        - percentage-92.2\n",
    "    - *Btech*\n",
    "        - Vignan'S Nirula Institute of Technology and Science\n",
    "            - 1st Btech\n",
    "                - 1st sem CGPA-7.46\n",
    "                - 2nd sem CGPA-7.01\n",
    "            - Current pursuing 2nd year\n",
    "- *Skills*\n",
    "    - *programming Languages*\n",
    "        - c,c++,python\n",
    "- *Projects*\n",
    "    - *CSP(Community service project)*\n",
    "        - Name of the project is Awareness on Certification Mark Issued e-commarce\n",
    "        - Done in the 1st Btech 2nd sem\n",
    "- *Areas of Interest*\n",
    "    - Interested in programming languages,listening music \n",
    "- *Certificates*\n",
    "    - Nptel certificate in the Joy Of Computing In Python\n",
    "    - Infosys Spring Board Certificates On Fundamentals Of python\n",
    "        - Certificate on part-1 in Fundamentals Of Python\n",
    "        - Certificate on part-2 in Fundamentals Of Python"
   ]
  },
  {
   "cell_type": "code",
   "execution_count": null,
   "id": "248595e8",
   "metadata": {},
   "outputs": [],
   "source": [
    "                                                                                                                                                                                                                                                                                                                                                                                                                                                                                                                                                                                                                                                                                                                                                                                                                                                                                                                                                                                                                                                                                                                                                                                                                                                                                                                                                                                                                                                                                                                                                                                                                                                                                                                                                                                                                                                                                                                                                                                                                                                                                                                                                                                                                                                                                                                                                                                                                                                                                                                                                                                                                                                                                                                                                                                                                                                                                                                                                                                                                                                                                                                                                                                                                                                                                                                                                                                                                                                                                                                                                                                                                                                                                                                                                                                                    "
   ]
  }
 ],
 "metadata": {
  "kernelspec": {
   "display_name": "Python 3 (ipykernel)",
   "language": "python",
   "name": "python3"
  },
  "language_info": {
   "codemirror_mode": {
    "name": "ipython",
    "version": 3
   },
   "file_extension": ".py",
   "mimetype": "text/x-python",
   "name": "python",
   "nbconvert_exporter": "python",
   "pygments_lexer": "ipython3",
   "version": "3.11.5"
  }
 },
 "nbformat": 4,
 "nbformat_minor": 5
}
