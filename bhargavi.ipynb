{
 "cells": [
  {
   "cell_type": "markdown",
   "id": "2b3d4bb8",
   "metadata": {},
   "source": [
    "<h1 style=\"color:black;text-align:center\">RESUME</h1>\n",
    "<img src=\"PHOTO1.jpg\" height=\"90px\" width=\"90px\" style=\"float: right; margin: 0 0 10px 10px\"></img>"
   ]
  },
  {
   "cell_type": "markdown",
   "id": "b1c7ff02",
   "metadata": {},
   "source": [
    "## CONTACT DETAILS:\n",
    "- **NAME:** BHARGAVI GALI\n",
    "- **GMAIL:** bhargavigali435@gmail.com\n",
    "- **PHONE:** 7842308139\n",
    "## EDUCATION:\n",
    "   - **SSC** \n",
    "      - AP MODEL SCHOOL,KANDLAKUNTA\n",
    "      - BOARD OF SECONDARY EDUCATION,A.P\n",
    "      - PASSED YEAR: 2020\n",
    "      - PERCENTAGE:9.2\n",
    "   - **DIPLOMA IN COMPUTER SCIENCE ENGINEERING**\n",
    "     - CHALAPATHI INSTISTUTE OF TECHNOLOGY,MOTHADAKA\n",
    "     - BOARD:SBTET\n",
    "     - PASSED YEAR:2023\n",
    "     - PERCENTAGE:86%\n",
    "   - **BTECH IN COMPUTER SCIENCE ENGINEERING**\n",
    "     - VIGNAN'S NIRULA INSTISTUTE OF TECHNOLOGY AND SCIENCE FOR WOMEN'S,PALAKALURU\n",
    "## TECHNICAL SKILLS:\n",
    "-  BASICS OF C PROGRAMMING\n",
    "-  BASICS OF PYTHON PROGRAMMING\n",
    "-  HTML\n",
    "-  C++\n",
    "-  DBMS\n",
    "## INTERSTED AREAS:\n",
    "- HYDERABAD\n",
    "- VIZAG\n",
    "- VIJAYAWADA\n",
    "## CERTIFICATE:\n",
    "- **RECEIVED CERTIFICATES FOR PATICIPATING AND GAINING KNOWLEGDE OF:**\n",
    "     1. Data Structure Course- which was authorized by university of Califoria Sam Diego\n",
    "        And HSE university through Coursera\n",
    "     2. Bits and Bytes of Computer Networks-GOOGle\n",
    "     3. Introduction of HTML file- which was authorized by university of Michigan through coursera\n",
    "     4. GOOGLESOS IT Certificate in Industrail Training\n",
    "     \n",
    "## HOBBIES:\n",
    "- READING BOOKS\n",
    "- LISTENING MUSIC\n",
    "- TRAVELING\n",
    "- LEARNING NEW THINGS\n",
    "## PERSONAL DETAILS:\n",
    "- **NAME**          :BHARGAVI GALI\n",
    "- **GENDER**        :FEMALE\n",
    "- **D.O.B**         : 01/09/2004\n",
    "- **PLACE OF BIRTH**:GUNTUR\n",
    "- **FATHER'S NAME** :SRINIVASARAO GALI\n",
    "- **MOTHER'S NAME** :ADHILAKSMI GALI\n",
    "- **NATIONALITY**   :INDIAN\n",
    "- **RELIGION?**     :HINDHU\n",
    "- **LANGUAGE KNOWN**:ENGLISH,TELUGU\n",
    "- **ADDRESS**       :7-28 NEAR VENKATESAWARA TEMPLE\n",
    "                     BODHILAVEEDU,VELDHURTHY\n",
    "                     GUNTUR 522613\n",
    "## DECLARATION:\n",
    "- I HEREBY DECLARE THAT THE ABOVE GIVEN INFORMATION IS TRUE TO THE BEST OF MY KNOWLEDGE AND BELIEF\n",
    "\n",
    "\n",
    "  BHARGAVI GALI\n",
    "- **SIGNATURE**"
   ]
  },
  {
   "cell_type": "code",
   "execution_count": null,
   "id": "c42cfe01",
   "metadata": {},
   "outputs": [],
   "source": []
  }
 ],
 "metadata": {
  "kernelspec": {
   "display_name": "Python 3 (ipykernel)",
   "language": "python",
   "name": "python3"
  },
  "language_info": {
   "codemirror_mode": {
    "name": "ipython",
    "version": 3
   },
   "file_extension": ".py",
   "mimetype": "text/x-python",
   "name": "python",
   "nbconvert_exporter": "python",
   "pygments_lexer": "ipython3",
   "version": "3.11.5"
  }
 },
 "nbformat": 4,
 "nbformat_minor": 5
}
