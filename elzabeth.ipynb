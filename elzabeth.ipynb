{
 "cells": [
  {
   "cell_type": "markdown",
   "id": "0392f4d1",
   "metadata": {},
   "source": [
    "<center>\n",
    "    <h1><u>My resume</u></h1>\n",
    "</center>\n",
    "<body>\n",
    "    <th bgcolor=\"green\" align=\"left\" width=\"45%\"></th>\n",
    "    </body>\n",
    "    <h2>Profile</h2>\n",
    "    <img src=\"Elizabeth.jpg\" height=\"88px\" width=\"100px\"></img>\n",
    "    <h2>Details</h2>\n",
    "    <li>Name:P.Elizebeth Rani</li>\n",
    "    <li>Mobile No: 7989585599</li>\n",
    "    <li>Email:pallepoguelizebethrani@gmail.com</li>\n",
    "    <h2>Education Qualificaion</h2>\n",
    "    <h3>Graduation:</h3>\n",
    "    <li>College:Vignan's Nirula Institute of Technology and Science for women</li>\n",
    "    <li>Degree:B.Tech</li>\n",
    "    <li>Branch:Computer Science and Engineering</li>\n",
    "    <li>CGPA:6.65</li>\n",
    "    <h3>Intermediate</h3>\n",
    "    <li>College:Sri chaitanya college</li>\n",
    "    <li>Group:M.P.C</li>\n",
    "    <li>Percentage:69.6</li>\n",
    "    <h3>SSC</h3>\n",
    "    <li>School:Sri chaitanya School</li>\n",
    "    <li>Percentage:100.0</li>\n",
    "    <h2>Skills</h2>\n",
    "    <li>C Programming</li>\n",
    "    <li>Python</li>\n",
    "    <h3>Project</h3>\n",
    "    <li>Community Service Project</li>\n",
    "    "
   ]
  },
  {
   "cell_type": "code",
   "execution_count": null,
   "id": "d5006d4f",
   "metadata": {},
   "outputs": [],
   "source": []
  }
 ],
 "metadata": {
  "kernelspec": {
   "display_name": "Python 3 (ipykernel)",
   "language": "python",
   "name": "python3"
  },
  "language_info": {
   "codemirror_mode": {
    "name": "ipython",
    "version": 3
   },
   "file_extension": ".py",
   "mimetype": "text/x-python",
   "name": "python",
   "nbconvert_exporter": "python",
   "pygments_lexer": "ipython3",
   "version": "3.11.5"
  }
 },
 "nbformat": 4,
 "nbformat_minor": 5
}
