{
 "cells": [
  {
   "cell_type": "markdown",
   "id": "fa441941",
   "metadata": {},
   "source": [
    "### Resume\n",
    "- **Profile**\n",
    "    - *Image:*\n",
    "        - <img src=\"img.jpg\" height=\"150px\" width=\"200px\"></img>\n",
    "    - *Name:*\n",
    "        - Madha jyothi sai priya\n",
    "    - *Date of Birth:*\n",
    "        - 28-05-2005\n",
    "    - *Phone No:*\n",
    "        - +919666840686\n",
    "    - *Email-Id:*\n",
    "        - madhapriya28@gmail.com\n",
    "- **Educational Qualification:**\n",
    "    - *SSC*\n",
    "        - Sri veda high School\n",
    "        - Passing year-2020\n",
    "        - Percentage-99.12\n",
    "    - *Intermediate*\n",
    "        - Sri Chaithanya Junior College\n",
    "        - Passing year-2022\n",
    "        - Percentage- 94.3\n",
    "    - *Btech*\n",
    "        - Vignan's Nirula Institute Of Technology And Sciences For Women\n",
    "            - 1st Btech\n",
    "                - 1st sem CGPA-8.86\n",
    "                - 2nd sem CGPA-8.87\n",
    "            - Current pursuing 2nd year \n",
    "- **Skills**\n",
    "    - *Programming Languages*\n",
    "        - C,C++,Python,html,css,javascript,linux,sql.\n",
    "- **Projects**\n",
    "    - *CSP(Community Service Project)* \n",
    "        - Name of the project is digital revolution in rural areas\n",
    "        - Done in the 1st btech 2nd sem\n",
    "    - *spotify clone\n",
    "    - *face recognition attendenace\n",
    "- **Areas of Interest**\n",
    "    - Interested in learning programming languages,travelling and playing sports,dancing.\n",
    "- **Certificates**\n",
    "    - Nptel Certificate in The Joy Of Computing In Python\n",
    "    - Infosys Spring Board Certificates on Fundamentals of Python\n",
    "        - Certificate on part-1 Fundamentals Of Python\n",
    "        - Certificate on part-2 in Fundamentals Of Python"
   ]
  },
  {
   "cell_type": "code",
   "execution_count": null,
   "id": "d26fcea9",
   "metadata": {},
   "outputs": [],
   "source": []
  }
 ],
 "metadata": {
  "kernelspec": {
   "display_name": "Python 3 (ipykernel)",
   "language": "python",
   "name": "python3"
  },
  "language_info": {
   "codemirror_mode": {
    "name": "ipython",
    "version": 3
   },
   "file_extension": ".py",
   "mimetype": "text/x-python",
   "name": "python",
   "nbconvert_exporter": "python",
   "pygments_lexer": "ipython3",
   "version": "3.11.5"
  }
 },
 "nbformat": 4,
 "nbformat_minor": 5
}
