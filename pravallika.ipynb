{
 "cells": [
  {
   "cell_type": "markdown",
   "id": "a4ccc512",
   "metadata": {},
   "source": [
    "\n",
    "### Resume\n",
    "- **Profile**\n",
    "    - *Image:*\n",
    "        - <img src=\"self.jpg\" height=\"100px\" width=\"100px\"></img>\n",
    "    - *Name:*\n",
    "        - Badduri Lakshmi Pravallika\n",
    "    - *Date of Birth:*\n",
    "        - 18-05-2005\n",
    "    - *Phone No:*\n",
    "        - +919390623546\n",
    "    - *Email-Id:*\n",
    "        - 22nn1a0506pravallika@gmail.com\n",
    "- **Educational Qualification:**\n",
    "    - *SSC*\n",
    "        - Sri Chaithanya School\n",
    "        - Passing year-2020\n",
    "        - Percentage-99.32\n",
    "    - *Intermediate*\n",
    "        - Bhashyam institutions\n",
    "        - Passing year-2022\n",
    "        - Percentage-90.6\n",
    "    - *Btech*\n",
    "        - Vignan's Nirula Institute Of Technology And Sciences For Women\n",
    "            - 1st Btech\n",
    "                - 1st sem CGPA-8.3\n",
    "                \n",
    "            - Current pursuing 2nd year \n",
    "- **Skills**\n",
    "    - *Programming Languages*\n",
    "        - C,C++,Python\n",
    "- **Projects**\n",
    "    - *CSP(Community Service Project)* \n",
    "        - Name of the project is Enviromental Protection\n",
    "        - Done in the 1st btech 2nd sem\n",
    "- **Areas of Interest**\n",
    "    - Interested in learning programming languages,travelling and playing sports\n",
    "- **Certificates**\n",
    "    - Nptel Certificate in The Joy Of Computing In Python\n",
    "    - Infosys Spring Board Certificates on Fundamentals of Python\n",
    "        - Certificate on part-1 Fundamentals Of Python\n",
    "        - Certificate on part-2 in Fundamentals Of Python"
   ]
  },
  {
   "cell_type": "code",
   "execution_count": null,
   "id": "e1248a59",
   "metadata": {},
   "outputs": [],
   "source": []
  }
 ],
 "metadata": {
  "kernelspec": {
   "display_name": "Python 3 (ipykernel)",
   "language": "python",
   "name": "python3"
  },
  "language_info": {
   "codemirror_mode": {
    "name": "ipython",
    "version": 3
   },
   "file_extension": ".py",
   "mimetype": "text/x-python",
   "name": "python",
   "nbconvert_exporter": "python",
   "pygments_lexer": "ipython3",
   "version": "3.11.5"
  }
 },
 "nbformat": 4,
 "nbformat_minor": 5
}
