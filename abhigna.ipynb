{
 "cells": [
  {
   "cell_type": "markdown",
   "id": "cec624e1-35ee-46a6-be63-b1fce9a7d0f2",
   "metadata": {},
   "source": [
    "<h1 style=\"color: red; text-align: center\"><b>RESUME</b></h1>\n",
    "<img src=\"photo.jpg\" height=\"100px\" width=\"100px\" img-align=\"center\"></img>\n",
    "<h4><b>Name</b> : </h4>\n",
    "<p>N.Abhigna </p>\n",
    "<h4><b>Mobile Number</b> : </h4>\n",
    "<p>7799106424 </p>\n",
    "<h4><b>E-mail</b> :</h4>\n",
    "<p>22nn1a0542abhigna@gmail.com </p>\n",
    "<h4><b>Educational Qualification</b> :</h4>\n",
    "<p>Completed Intermediate (2020-2022) at Narayana Jr. College with \"86.5%\" <hr> Completed 10th (2020) at Narayana Olympiad with \"97%\"</p>\n",
    "<h4><b>Skills</b> : </h4>\n",
    "<p> <hr> C++ <hr> Python</p>\n",
    "<h4><b>Projects</b> :</h4>\n",
    "<p>Community Service project on the Certification marks issued on the food products </p>\n",
    "<h4><b>Areas of intrest</b>:</h4>\n",
    "<p>watching TV <hr> Singing</p>"
   ]
  },
  {
   "cell_type": "code",
   "execution_count": null,
   "id": "4cd737c0-3b02-46cf-9cf9-ca8aeabcc057",
   "metadata": {},
   "outputs": [],
   "source": []
  }
 ],
 "metadata": {
  "kernelspec": {
   "display_name": "Python 3 (ipykernel)",
   "language": "python",
   "name": "python3"
  },
  "language_info": {
   "codemirror_mode": {
    "name": "ipython",
    "version": 3
   },
   "file_extension": ".py",
   "mimetype": "text/x-python",
   "name": "python",
   "nbconvert_exporter": "python",
   "pygments_lexer": "ipython3",
   "version": "3.11.4"
  }
 },
 "nbformat": 4,
 "nbformat_minor": 5
}
