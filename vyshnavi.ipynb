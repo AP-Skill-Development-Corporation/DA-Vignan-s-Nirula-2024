{
 "cells": [
  {
   "cell_type": "markdown",
   "id": "3527206d",
   "metadata": {},
   "source": [
    "<center>\n",
    "    <h1><u>My resume</u></h1>\n",
    "</center>\n",
    "<body>\n",
    "    <th bgcolor=\"green\" align=\"left\" width=\"45%\"></th>\n",
    "    </body>\n",
    "    <h2>profile</h2>\n",
    "    <img src=\"vyshu.jpg\" height=\"88px\" width=\"99px\"></img>\n",
    "    <h2>Details</h2>\n",
    "    <li>Name:K.vyshnavi</li>\n",
    "    <li>Mobile:9160063872</li>\n",
    "    <li>Email:22nn1a0530vyshanvi@gmail.com</li>\n",
    "    <h2>Education Qualification</h2>\n",
    "    <h3>Graduation:</h3>\n",
    "    <li>College:Vignan's Nirula Institute of Techonology and science for womens\n",
    "    <li>Degree:B.tech</li>\n",
    "    <li>Branch:Computer Science and Engineering</li>\n",
    "    <li>CGPA:7.3</li>\n",
    "    <h3>Intermediate</h3>\n",
    "    <li>College:Sri Saraswathi junior college</li>\n",
    "    <li>Group:m.p.c</li>\n",
    "    <li>Percentage:78.1</li>\n",
    "    <h3>SSC</h3>\n",
    "    <li>School:Bhashyam high school</li>\n",
    "    <li>percentage:97.5</li>\n",
    "    <h2>Skills</h2>\n",
    "    <li>C programming</li>\n",
    "    <li>Python</li>\n",
    "    <h3>Project</h3>\n",
    "    <li>Role of Eductaion in Rural Development</li>"
   ]
  },
  {
   "cell_type": "code",
   "execution_count": null,
   "id": "65c64c44",
   "metadata": {},
   "outputs": [],
   "source": []
  },
  {
   "cell_type": "code",
   "execution_count": null,
   "id": "9695cf97",
   "metadata": {},
   "outputs": [],
   "source": []
  }
 ],
 "metadata": {
  "kernelspec": {
   "display_name": "Python 3 (ipykernel)",
   "language": "python",
   "name": "python3"
  },
  "language_info": {
   "codemirror_mode": {
    "name": "ipython",
    "version": 3
   },
   "file_extension": ".py",
   "mimetype": "text/x-python",
   "name": "python",
   "nbconvert_exporter": "python",
   "pygments_lexer": "ipython3",
   "version": "3.11.5"
  }
 },
 "nbformat": 4,
 "nbformat_minor": 5
}
