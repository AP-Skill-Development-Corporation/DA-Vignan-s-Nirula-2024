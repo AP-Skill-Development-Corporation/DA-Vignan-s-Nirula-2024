{
 "cells": [
  {
   "cell_type": "markdown",
   "id": "2ba58db3",
   "metadata": {},
   "source": [
    "#### Resume\n",
    "- Name\n",
    "   - Peram Anusha\n",
    "- Qualification\n",
    "    - B.tech 2nd year\n",
    "- photo \n",
    "  <img src=\"anusha.jpg\" height=\"80px\" width=\"90px\"></img>\n",
    "- Email id\n",
    "    - 22nn1a0547anusha@gmail.com\n",
    "- phone number\n",
    "    - 6301892155\n",
    "- Skills\n",
    "     - C,C++,Python\n",
    "- Project\n",
    "     - Snake game design\n",
    "     - Netflix web page design\n",
    "- Certificates\n",
    "     - Infosys certificate on fundamentals on python\n",
    "     - Infosys certificate on part-1 python\n",
    "     - Infosys certificate on part-2 python"
   ]
  },
  {
   "cell_type": "code",
   "execution_count": null,
   "id": "4bd7fe11",
   "metadata": {},
   "outputs": [],
   "source": []
  }
 ],
 "metadata": {
  "kernelspec": {
   "display_name": "Python 3 (ipykernel)",
   "language": "python",
   "name": "python3"
  },
  "language_info": {
   "codemirror_mode": {
    "name": "ipython",
    "version": 3
   },
   "file_extension": ".py",
   "mimetype": "text/x-python",
   "name": "python",
   "nbconvert_exporter": "python",
   "pygments_lexer": "ipython3",
   "version": "3.11.3"
  }
 },
 "nbformat": 4,
 "nbformat_minor": 5
}
