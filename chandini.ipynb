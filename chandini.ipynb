{
 "cells": [
  {
   "cell_type": "markdown",
   "id": "c27f37f4",
   "metadata": {},
   "source": [
    "#### Resume\n",
    "- Name\n",
    "  - Paricharla.Chandini Siri\n",
    "- Qualification\n",
    "  - B.tech 2nd year\n",
    "- Photo\n",
    "  <img src= chandini.jpg height= 88px width=99px >\n",
    "- Email id\n",
    "  - 22nn1a0544chandini@gmail.com\n",
    " - Phone number\n",
    "    - 8328046219\n",
    " - Skills\n",
    "    - C,C++,python\n",
    " - Project\n",
    "    - Snake game design\n",
    " - Certificates\n",
    "   - The joy of Computing through Python\n",
    "   - Infosys certificates on fundamentals on Python\n",
    "   - Infosys certificates on part-1 Python\n",
    "   - Infosys certificates on part-2 Python\n"
   ]
  },
  {
   "cell_type": "code",
   "execution_count": null,
   "id": "95b126e7",
   "metadata": {},
   "outputs": [],
   "source": []
  },
  {
   "cell_type": "code",
   "execution_count": null,
   "id": "8a6d9eec",
   "metadata": {},
   "outputs": [],
   "source": []
  }
 ],
 "metadata": {
  "kernelspec": {
   "display_name": "Python 3 (ipykernel)",
   "language": "python",
   "name": "python3"
  },
  "language_info": {
   "codemirror_mode": {
    "name": "ipython",
    "version": 3
   },
   "file_extension": ".py",
   "mimetype": "text/x-python",
   "name": "python",
   "nbconvert_exporter": "python",
   "pygments_lexer": "ipython3",
   "version": "3.11.5"
  }
 },
 "nbformat": 4,
 "nbformat_minor": 5
}
