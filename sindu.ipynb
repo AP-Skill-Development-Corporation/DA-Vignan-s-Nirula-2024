{
 "cells": [
  {
   "cell_type": "markdown",
   "id": "4b51d8d5",
   "metadata": {},
   "source": [
    "### Resume\n",
    "- *profile*\n",
    "-*Image:*\n",
    "       -<img scr=\"sindhu.jpg\" height=\"100px\" width=\"200px\"></img>\n",
    "- *Name:*\n",
    "       - Gogisetti Venkata Sindhu\n",
    "- *Date of Birth:*\n",
    "        - 07-26-2003\n",
    "- *phone No:*\n",
    "        - +919000025968\n",
    "- *Email-id:*\n",
    "        - gogisettisindhu@gmail.com\n",
    "- *Educational Qualification:*\n",
    "    - *SSC*\n",
    "        - Basara concept school\n",
    "        - passing year-2020\n",
    "        - percentage-98\n",
    "- *Intermediate*\n",
    "        - Sricchaitanya Junior College\n",
    "        - passing year-2022\n",
    "        - percentage-76.6\n",
    "- *Btech*\n",
    "        - vignan's Nirula Institute Of Technology And Science For Women\n",
    "            - Current pursuing 2nd year\n",
    "- *Skills*\n",
    "    - *programming Languages*\n",
    "        - c,c++,python\n",
    "- *Projects*\n",
    "- *CSP(Community service project)*\n",
    "    - Name of the project is Awareness on Certification Mark Issued On Food Products\n",
    "    - Done in the 1st Btech 2nd sem\n",
    "- *Areas of Interest*\n",
    "    - Interested in programming languages,listening music \n",
    "- *Certificates*\n",
    "    - Nptel certificate in the Joy Of Computing In Python\n",
    "    - Infosys Spring Board Certificates On Fundamentals Of python\n",
    "        - Certificate on part-1 in Fundamentals Of Python\n",
    "        - Certificate on part-2 in Fundamentals Of Python"
   ]
  },
  {
   "cell_type": "code",
   "execution_count": null,
   "id": "4fb70c14",
   "metadata": {},
   "outputs": [],
   "source": []
  }
 ],
 "metadata": {
  "kernelspec": {
   "display_name": "Python 3 (ipykernel)",
   "language": "python",
   "name": "python3"
  },
  "language_info": {
   "codemirror_mode": {
    "name": "ipython",
    "version": 3
   },
   "file_extension": ".py",
   "mimetype": "text/x-python",
   "name": "python",
   "nbconvert_exporter": "python",
   "pygments_lexer": "ipython3",
   "version": "3.11.5"
  }
 },
 "nbformat": 4,
 "nbformat_minor": 5
}
