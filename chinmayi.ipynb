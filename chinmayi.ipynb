{
 "cells": [
  {
   "cell_type": "markdown",
   "id": "a3e6fcb2",
   "metadata": {},
   "source": [
    "<h1 style=\"text-align:center\">RESUME</h1>\n",
    "<img src=\"chinnu.jpg\" height=\"100px\" width=\"120px\" style=\"float: right; margin:0 0 10px 10px\"></img>"
   ]
  },
  {
   "cell_type": "markdown",
   "id": "c89b1e37",
   "metadata": {},
   "source": [
    "### CONTACT DETAILS\n",
    "- **NAME:** *Borra.Chinmayi*\n",
    "- **ADDRESS:** \n",
    "   - *2-23/1*\n",
    "   - *Near panchaythi office*\n",
    "   - *Surepalli(V)*\n",
    "   - *Bhattiprolu(M)*\n",
    "   - *Bapatla(D)*\n",
    "- **PHONENUMBER:** *7207200681*\n",
    "- **EMAIL_ID:** *borrachinmayi3413@gmail.com*\n",
    "### OBJECTIVE \n",
    "- *To pursue my career through your company and secure good and high qualify job and secure a good life*\n",
    "### PERSONAL DATA\n",
    "- **NICKNAME:** *Chinnu*\n",
    "- **AGE:** *17*\n",
    "- **SEX:** *Female*\n",
    "- **DATE OF BIRTH:** *02-03-2006*\n",
    "- **BIRTH PLACE:** *Gullapalli*\n",
    "- **FATHER'S NAME:** *Borra.Venkata Subrahamanyam*\n",
    "- **MOTHER'S NAME:** *Borra.Sandhya Rani*\n",
    "- **CIVIL STATUS:** *Single*\n",
    "- **LANGUAGES KNOWN:** *Telugu,English,Hindi*\n",
    "- **NATIONALITY:** *Indian*\n",
    "- **RELIGION:** *Hindu*\n",
    "- **HOBBIES:**\n",
    "    - *Sleeping*\n",
    "    - *Listening music*\n",
    "    - *Playing games*\n",
    "### EDUCATIONAL BACKGROUND\n",
    "- **SCHOOLING:** *Viswasanthi English Medium High School,Bhattiprolu*\n",
    "- **DIPLOMA/INTER:** *A.A.N.M & V.V.R.S.R Polytechnic,Gudlavalleru*\n",
    "- **PRESENT STUDY:** *B-TECH 2nd year Vignan's Nirula Institute of Technology and Science,Pedapalakaluru*\n",
    "### CGPA\n",
    "- **SSC:** *9.0*\n",
    "- **DIPLOMA/INTER:** *86.07*\n",
    "### SKILLS\n",
    "- **PROGRAMMING LANGUAGES:** *Java* , *C++* , *C*\n",
    "- *Easy learner*\n",
    "- *Team Spirit*\n",
    "### CERTIFICATIONS\n",
    "- *BSNL Certificate for Industrial Training*\n",
    "- *Infosys Springboard Certification on Programming Fundamentals using Python Part-1*\n",
    "- *Infosys Springboard Certification on Programming Fundamentals using Python Part-2*\n",
    "### INTERESTED AREAS\n",
    "- **HYDERABAD**\n",
    "- **BENGALURU**\n",
    "- **VIZAG**\n",
    "### DECLARATION\n",
    "- *I hereby declare that the above given information is true to the best of my knowledge and belief\n",
    "<h4 style=\"color:blue;text-align:center\">This Resume is created by Chinmayi.Borra</h4>\n",
    "<h4 style=\"color:blue;text-align:right\">SIGNATURE</h4>\n",
    "<h4 style=\"color:black;text-align:right\">Chinmayi.B</h4>"
   ]
  },
  {
   "cell_type": "code",
   "execution_count": null,
   "id": "770090a5",
   "metadata": {},
   "outputs": [],
   "source": []
  }
 ],
 "metadata": {
  "kernelspec": {
   "display_name": "Python 3 (ipykernel)",
   "language": "python",
   "name": "python3"
  },
  "language_info": {
   "codemirror_mode": {
    "name": "ipython",
    "version": 3
   },
   "file_extension": ".py",
   "mimetype": "text/x-python",
   "name": "python",
   "nbconvert_exporter": "python",
   "pygments_lexer": "ipython3",
   "version": "3.11.5"
  }
 },
 "nbformat": 4,
 "nbformat_minor": 5
}
