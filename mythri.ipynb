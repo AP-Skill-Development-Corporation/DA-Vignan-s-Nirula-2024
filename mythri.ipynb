{
 "cells": [
  {
   "cell_type": "markdown",
   "id": "e2d0aecf",
   "metadata": {},
   "source": [
    "## RESUME\n",
    " \n",
    " \n",
    "### Profile\n",
    "\n",
    "<img src=\"23.jpg\"></img>\n",
    "\n",
    "### * name=K.Mythri\n",
    "### * mobileno=8179923869\n",
    "### * email=mythrikancharla@gmail.com\n",
    "\n",
    "## Educational Qualifications\n",
    "\n",
    "### * Vignan's Nirula Institute Of Technology And Science For Women                                     2022-2026\n",
    "#### * Btech-Computer Science And Engineering\n",
    "#### * 7.8\n",
    "\n",
    "### * Bhashyam Junior College                                                                                                       2020-2022\n",
    "#### * MPC-889\n",
    "\n",
    "## Skills\n",
    "\n",
    "### * Communication Skills\n",
    "### * Programming Languages-C,Python\n",
    "### * Problem Solving\n",
    "### * Design Making\n",
    "\n",
    "\n",
    "## Projects\n",
    "### * Coding\n",
    "### * Reading\n",
    "\n",
    "\n"
   ]
  },
  {
   "cell_type": "code",
   "execution_count": null,
   "id": "a6c4aa5e",
   "metadata": {},
   "outputs": [],
   "source": []
  }
 ],
 "metadata": {
  "kernelspec": {
   "display_name": "Python 3 (ipykernel)",
   "language": "python",
   "name": "python3"
  },
  "language_info": {
   "codemirror_mode": {
    "name": "ipython",
    "version": 3
   },
   "file_extension": ".py",
   "mimetype": "text/x-python",
   "name": "python",
   "nbconvert_exporter": "python",
   "pygments_lexer": "ipython3",
   "version": "3.11.5"
  }
 },
 "nbformat": 4,
 "nbformat_minor": 5
}
