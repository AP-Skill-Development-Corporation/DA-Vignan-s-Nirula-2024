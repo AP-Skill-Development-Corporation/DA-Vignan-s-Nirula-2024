{
 "cells": [
  {
   "cell_type": "markdown",
   "id": "b26785b2",
   "metadata": {},
   "source": [
    "<h4 style=\"color:red; text-align : center\";><b>RESUME</b></h4>\n",
    "<img src=\"img.jpg\" heigth=\"100px\" width=\"120px\" style=\"float: right; margin:0 0 10px 10px\"></img>\n",
    "\n",
    "###  Gorikapudi Sathwika\n",
    "\n",
    "*Mobile No*:7780186780\n",
    "\n",
    "*Email id*: [22nn1a0518sathwika@gmail.com]\n",
    "\n",
    "*Address*: H-NO:15-62,Mutluru,Vatticherukuru,Guntur,522212.\n",
    "\n",
    "## Educational Qualification:\n",
    "\n",
    "- Intermediate Sri Chayatinya Junior College,2022.\n",
    "\n",
    "- 10th from Bhyashyam high School,2020.\n",
    "\n",
    "## professional Skills:\n",
    "\n",
    "- *Language*:C,C++,PYTHON & Basics of JAVA.\n",
    "- Hardworking\n",
    "- Basic kowledge of Computer.\n",
    "\n",
    "## Project:\n",
    "\n",
    "- Andhra Pradesh  State Skill Development Corporation.\n",
    "\n",
    "## Areas of interest:\n",
    "\n",
    "- Sports\n",
    "- Data Analysis\n",
    "- To become a Software employee in IBM"
   ]
  }
 ],
 "metadata": {
  "kernelspec": {
   "display_name": "Python 3 (ipykernel)",
   "language": "python",
   "name": "python3"
  },
  "language_info": {
   "codemirror_mode": {
    "name": "ipython",
    "version": 3
   },
   "file_extension": ".py",
   "mimetype": "text/x-python",
   "name": "python",
   "nbconvert_exporter": "python",
   "pygments_lexer": "ipython3",
   "version": "3.11.5"
  }
 },
 "nbformat": 4,
 "nbformat_minor": 5
}
