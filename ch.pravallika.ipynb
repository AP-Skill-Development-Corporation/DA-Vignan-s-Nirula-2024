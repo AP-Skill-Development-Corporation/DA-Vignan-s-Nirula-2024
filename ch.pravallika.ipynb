{
 "cells": [
  {
   "cell_type": "markdown",
   "id": "851cfb4a",
   "metadata": {},
   "source": [
    "# Resume preparation\n",
    "- Name CHINTHALA PRAVALLIKA\n",
    "- Cell +917989999475\n",
    "- Email address chinthalapravallika154@gmail.com\n",
    "## Educational Qualifications\n",
    "- 2015-2020\n",
    "- Secondary School Education\n",
    "- Seventh-Day Adventist High School\n",
    "- 2020-2022\n",
    "- Intermediate Education\n",
    "- Sri Venkateshwara Junior College\n",
    "- 2022-2026\n",
    "- Bachelor of Technology in Computer Science\n",
    "- Vignan's Nirula Institute\n",
    "## Skills\n",
    "- Technical skills\n",
    "- Communication skills\n",
    "## Areas of Interest\n",
    "- To become a software developer in IT Company \n",
    "## Profile\n",
    "- Codechef pravallika_77(Rating 964)\n",
    "- Hackerrank @22nn1a0511prava1(Rating 33%)"
   ]
  },
  {
   "cell_type": "code",
   "execution_count": null,
   "id": "b32330d9",
   "metadata": {},
   "outputs": [],
   "source": []
  }
 ],
 "metadata": {
  "kernelspec": {
   "display_name": "Python 3 (ipykernel)",
   "language": "python",
   "name": "python3"
  },
  "language_info": {
   "codemirror_mode": {
    "name": "ipython",
    "version": 3
   },
   "file_extension": ".py",
   "mimetype": "text/x-python",
   "name": "python",
   "nbconvert_exporter": "python",
   "pygments_lexer": "ipython3",
   "version": "3.11.5"
  }
 },
 "nbformat": 4,
 "nbformat_minor": 5
}
