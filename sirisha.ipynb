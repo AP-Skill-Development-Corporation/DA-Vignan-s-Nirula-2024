{
 "cells": [
  {
   "cell_type": "markdown",
   "id": "76e69b50",
   "metadata": {},
   "source": [
    "#### RESUME\n"
   ]
  },
  {
   "cell_type": "markdown",
   "id": "8aeac268",
   "metadata": {},
   "source": [
    "<h4>Profile:</h4>\n",
    "<k>Name: N.sirisha</k>\n",
    "<img src=\"siri.jpg\" height=\"188px\" width=\"199px\"</img>    \n",
    "<k>MobileNumber:7386524142</k>\n",
    "<k>Email: siriha@gmail.com<k>"
   ]
  },
  {
   "cell_type": "markdown",
   "id": "3e95d339",
   "metadata": {},
   "source": [
    "### EDUCATIONAL QUALIFICATION\n",
    "<table  align=\"left\" borders=\"\" width=\"300px\">\n",
    "<tr>\n",
    "<td>course</td>\n",
    "<td>institute</td>\n",
    "<td>percentage</td>\n",
    "</tr>\n",
    "<tr>\n",
    "<td>10</td>\n",
    "<td>st.johns high school</td>\n",
    "<td>100</td>\n",
    "</tr>\n",
    "<tr>\n",
    "<td>diploma</td>\n",
    "<td>khit</td>\n",
    "<td>80.85</td>\n",
    "<tr>\n",
    "</table>"
   ]
  },
  {
   "cell_type": "markdown",
   "id": "1360d144",
   "metadata": {},
   "source": [
    "### Skills\n",
    "- coomunicational skills\n",
    "- programming knowledge in python,c\n",
    "- good teamleader"
   ]
  },
  {
   "cell_type": "markdown",
   "id": "a85be37f",
   "metadata": {},
   "source": [
    "### certifications\n",
    "- completed python fundamental course-1 in python from infosys\n",
    "- completed python fundamental course-2 in python from infosys "
   ]
  },
  {
   "cell_type": "code",
   "execution_count": null,
   "id": "3375a49f",
   "metadata": {},
   "outputs": [],
   "source": []
  }
 ],
 "metadata": {
  "kernelspec": {
   "display_name": "Python 3 (ipykernel)",
   "language": "python",
   "name": "python3"
  },
  "language_info": {
   "codemirror_mode": {
    "name": "ipython",
    "version": 3
   },
   "file_extension": ".py",
   "mimetype": "text/x-python",
   "name": "python",
   "nbconvert_exporter": "python",
   "pygments_lexer": "ipython3",
   "version": "3.11.5"
  }
 },
 "nbformat": 4,
 "nbformat_minor": 5
}
