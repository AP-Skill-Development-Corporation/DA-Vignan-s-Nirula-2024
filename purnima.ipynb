{
 "cells": [
  {
   "cell_type": "markdown",
   "id": "66032aae",
   "metadata": {},
   "source": [
    "### Resume\n",
    "- **Profile**\n",
    "    - *Image:*\n",
    "        - <img src=\"purnima.txt.jpg\" height=\"80px\" width=\"90px\"></img>\n",
    "    - *Name:*\n",
    "        - Annam Purnima\n",
    "    - *Date of Birth:*\n",
    "        - 20-8-2004\n",
    "    - *Phone No:*\n",
    "        - +917989899958\n",
    "    - *Email-Id:*\n",
    "        - 22NN1A0504purnima@gmail.com\n",
    "- **Educational Qualification:**\n",
    "    - *SSC*\n",
    "        - Oxford public school\n",
    "        - Passing year-2020\n",
    "        - Percentage-96\n",
    "    - *Intermediate*\n",
    "        - svkp Junior College\n",
    "        - Passing year-2022\n",
    "        - Percentage-96\n",
    "    - *Btech*\n",
    "        - Vignan's Nirula Institute Of Technology And Sciences For Women\n",
    "            - 1st Btech\n",
    "                - 1st sem CGPA-8.45\n",
    "                - 2nd sem CGPA-8.64\n",
    "            - Current pursuing 2nd year \n",
    "- **Skills**\n",
    "    - *Programming Languages*\n",
    "        - C,C++,Python,\n",
    "- **Projects**\n",
    "    - *CSP(Community Service Project)* \n",
    "        - Name of the project is Role of education in rural development\n",
    "        - Done in the 1st btech 2nd sem\n",
    "- **Areas of Interest**\n",
    "    - Interested in learning programming languages"
   ]
  },
  {
   "cell_type": "code",
   "execution_count": null,
   "id": "7ad69e69",
   "metadata": {},
   "outputs": [],
   "source": []
  }
 ],
 "metadata": {
  "kernelspec": {
   "display_name": "Python 3 (ipykernel)",
   "language": "python",
   "name": "python3"
  },
  "language_info": {
   "codemirror_mode": {
    "name": "ipython",
    "version": 3
   },
   "file_extension": ".py",
   "mimetype": "text/x-python",
   "name": "python",
   "nbconvert_exporter": "python",
   "pygments_lexer": "ipython3",
   "version": "3.11.5"
  }
 },
 "nbformat": 4,
 "nbformat_minor": 5
}
