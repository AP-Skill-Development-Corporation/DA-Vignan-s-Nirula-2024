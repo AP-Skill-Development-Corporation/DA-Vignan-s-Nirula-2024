{
 "cells": [
  {
   "cell_type": "markdown",
   "id": "a315f268",
   "metadata": {},
   "source": [
    "### Resume\n",
    "- **Profile**\n",
    "    - **Image:**\n",
    "        - <img src=\"profile.jpg\" height=\"100px\" width=\"150px\"></img>\n",
    "    - **Name:**\n",
    "        - Jaladi Karuna Sri\n",
    "    - **Date of Birth:**\n",
    "        - 13-05-2005\n",
    "    - **Phone No:**\n",
    "        - +919652688086\n",
    "    - **Email-Id:**\n",
    "        - karunasrijaladi13@gmail.com\n",
    "- **Educational Qualification:**\n",
    "    - **SSC**\n",
    "        - Sri Chaithanya School\n",
    "        - Passing year-2020\n",
    "        - Percentage-99.12\n",
    "    - **Intermediate**\n",
    "        - Sri Chaithanya Junior College\n",
    "        - Passing year-2022\n",
    "        - Percentage-89.1\n",
    "    - **Btech**\n",
    "        - Vignan's Nirula Institute Of Technology And Sciences For Women\n",
    "            - 1st Btech\n",
    "                - 1st sem CGPA-9.08\n",
    "                - 2nd sem CGPA-8.77\n",
    "            - Current pursuing 2nd year \n",
    "- **Skills**\n",
    "    - **Programming Languages**\n",
    "        - C,C++,Python\n",
    "- **Projects**\n",
    "    - **CSP(Community Service Project)** \n",
    "        - Name of the project is Enviromental Protection\n",
    "        - Done in the 1st btech 2nd sem\n",
    "- **Areas of Interest**\n",
    "    - Interested in learning programming languages,travelling and playing sports\n",
    "- **Certificates**\n",
    "    - Nptel Certificate in The Joy Of Computing In Python\n",
    "    - Infosys Spring Board Certificates on Fundamentals of Python\n",
    "        - Certificate on part-1 Fundamentals Of Python\n",
    "        - Certificate on part-2 in Fundamentals Of Python"
   ]
  }
 ],
 "metadata": {
  "kernelspec": {
   "display_name": "Python 3 (ipykernel)",
   "language": "python",
   "name": "python3"
  },
  "language_info": {
   "codemirror_mode": {
    "name": "ipython",
    "version": 3
   },
   "file_extension": ".py",
   "mimetype": "text/x-python",
   "name": "python",
   "nbconvert_exporter": "python",
   "pygments_lexer": "ipython3",
   "version": "3.11.5"
  }
 },
 "nbformat": 4,
 "nbformat_minor": 5
}
