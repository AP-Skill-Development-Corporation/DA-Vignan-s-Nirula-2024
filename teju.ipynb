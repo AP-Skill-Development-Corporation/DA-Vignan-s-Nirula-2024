{
 "cells": [
  {
   "cell_type": "markdown",
   "id": "e94b32c3",
   "metadata": {},
   "source": [
    "# RESUME\n",
    "\n",
    "## Profile\n",
    "\n",
    "- <img src=\"pics.jpg\"></img>\n",
    "\n",
    "### * name = G.Tejaswi\n",
    "### * mobileno = 9182857279\n",
    "### * email = gavaratejaswi@gmail.com\n",
    "\n",
    "## Educational Qualifications\n",
    "\n",
    "### * Vignan's Nirula Institute Of Technology And Science For Women                                       2022-2026\n",
    "#### * Btech-Computer Science And Engineering\n",
    "#### * 8.19\n",
    "\n",
    "### * Balajii Junior College                                                                                                                 2020-2022\n",
    "#### * MPC-892\n",
    "\n",
    "## Skills\n",
    "\n",
    "### * Communication skills\n",
    "### * Programming Languages- C,Python\n",
    "### * Problem Solving\n",
    "### * Decision Making\n",
    "\n",
    "## Projects\n",
    "\n",
    "### * Community Service Project\n",
    "\n",
    "## Areas Of Interest\n",
    "\n",
    "### * Coding\n",
    "### * Reading\n"
   ]
  },
  {
   "cell_type": "code",
   "execution_count": null,
   "id": "026dc872",
   "metadata": {},
   "outputs": [],
   "source": []
  }
 ],
 "metadata": {
  "kernelspec": {
   "display_name": "Python 3 (ipykernel)",
   "language": "python",
   "name": "python3"
  },
  "language_info": {
   "codemirror_mode": {
    "name": "ipython",
    "version": 3
   },
   "file_extension": ".py",
   "mimetype": "text/x-python",
   "name": "python",
   "nbconvert_exporter": "python",
   "pygments_lexer": "ipython3",
   "version": "3.11.5"
  }
 },
 "nbformat": 4,
 "nbformat_minor": 5
}
