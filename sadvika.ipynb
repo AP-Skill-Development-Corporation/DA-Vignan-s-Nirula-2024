{
 "cells": [
  {
   "cell_type": "markdown",
   "id": "b5af7c5d",
   "metadata": {},
   "source": [
    "# *RESUME*"
   ]
  },
  {
   "cell_type": "markdown",
   "id": "d413e6f4",
   "metadata": {},
   "source": [
    "<img src=\"sadvika.jpg\" align=\"left\" height=\"20px\" width=\"120px\"></img>"
   ]
  },
  {
   "cell_type": "markdown",
   "id": "acfb6694",
   "metadata": {},
   "source": [
    "### *profile :-*"
   ]
  },
  {
   "cell_type": "markdown",
   "id": "83745626",
   "metadata": {},
   "source": [
    "- **NAME:-** T.Sadvika\n",
    "- **Mobile number :-** +91 9100392948\n",
    "- **Email :-** sadvika@gmail.com"
   ]
  },
  {
   "cell_type": "markdown",
   "id": "68e12792",
   "metadata": {},
   "source": [
    "### Educational Qualification:-"
   ]
  },
  {
   "cell_type": "markdown",
   "id": "589b5904",
   "metadata": {},
   "source": [
    "<table  align=\"left\" borders=\"\" width=\"300px\">\n",
    "<tr>\n",
    "<td>course</td>\n",
    "<td>institute</td>\n",
    "<td>percentage</td>\n",
    "</tr>\n",
    "<tr>\n",
    "<td>10th</td>\n",
    "<td>zph high school</td>\n",
    "<td>87</td>\n",
    "</tr>\n",
    "<tr>\n",
    "<td>Inter</td>\n",
    "<td>vivekananda</td>\n",
    "<td>89</td>\n",
    "<tr>\n",
    "</table>"
   ]
  },
  {
   "cell_type": "markdown",
   "id": "be11236e",
   "metadata": {},
   "source": [
    "### ***Skills***"
   ]
  },
  {
   "cell_type": "markdown",
   "id": "d053d0f9",
   "metadata": {},
   "source": [
    "- Communication skills\n",
    "- programming knowledge in c,python\n",
    "- good at sports"
   ]
  },
  {
   "cell_type": "markdown",
   "id": "55f845e1",
   "metadata": {},
   "source": [
    "### ***Certifications***"
   ]
  },
  {
   "cell_type": "markdown",
   "id": "754f80b7",
   "metadata": {},
   "source": [
    "- Completed python fundamental course-1 in python from infosys\n",
    "- Completed python fundamental course-2 in python from infosys"
   ]
  },
  {
   "cell_type": "code",
   "execution_count": null,
   "id": "0d440f99",
   "metadata": {},
   "outputs": [],
   "source": []
  }
 ],
 "metadata": {
  "kernelspec": {
   "display_name": "Python 3 (ipykernel)",
   "language": "python",
   "name": "python3"
  },
  "language_info": {
   "codemirror_mode": {
    "name": "ipython",
    "version": 3
   },
   "file_extension": ".py",
   "mimetype": "text/x-python",
   "name": "python",
   "nbconvert_exporter": "python",
   "pygments_lexer": "ipython3",
   "version": "3.11.5"
  }
 },
 "nbformat": 4,
 "nbformat_minor": 5
}
