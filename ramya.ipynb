{
 "cells": [
  {
   "cell_type": "markdown",
   "id": "a0555acf",
   "metadata": {},
   "source": [
    "<center>\n",
    "    <h1><u>My resume</u></h1>\n",
    "</center>\n",
    "<body>\n",
    "    <th bgcolor=\"green\" align=\"left\" width=\"%45\"></th>\n",
    "    </body>\n",
    "    <h2>Profile</h2>\n",
    "    <img src=\"Ram.jpg\" height=\"88px\" width=\"99px\"></img>\n",
    "    <h2>Details</h2>\n",
    "    <li>Name:Tenali.Ramya</li>\n",
    "    <li>Mobile:9391749342 </li>\n",
    "    <li>Email:tenaliramya09@gmail.com</li>\n",
    "    <h2>Education Qualification</h2>\n",
    "    <h3>Graduation:</h3>\n",
    "    <li>College:Vignans Nirula Institute of Technology and Science for Women</li>\n",
    "    <li>Degree:Btech</li>\n",
    "    <li>Branch:Computer science and Engineering</li>\n",
    "    <li>CGPA:8.55</li>\n",
    "    <h3>Intermediate</h3>\n",
    "    <li>College:Sri Chaitanya junior college</li>\n",
    "    <li>Group:M.P.C</li>\n",
    "    <li>Percentage:97</li>\n",
    "    <h3>SSC</h3>\n",
    "    <li>School:Fathima Vidya Nikethan</li>\n",
    "    <li>Percentage:95.3</li>\n",
    "    <h2>Skills</h2>\n",
    "    <li>C programming</li>\n",
    "    <li>Python</li>\n",
    "    <h3>Project</h3>\n",
    "    <li>Community Service Project</li>\n",
    "   \n",
    "   \n",
    "   "
   ]
  },
  {
   "cell_type": "markdown",
   "id": "dcec18ed",
   "metadata": {},
   "source": []
  }
 ],
 "metadata": {
  "kernelspec": {
   "display_name": "Python 3 (ipykernel)",
   "language": "python",
   "name": "python3"
  },
  "language_info": {
   "codemirror_mode": {
    "name": "ipython",
    "version": 3
   },
   "file_extension": ".py",
   "mimetype": "text/x-python",
   "name": "python",
   "nbconvert_exporter": "python",
   "pygments_lexer": "ipython3",
   "version": "3.11.5"
  }
 },
 "nbformat": 4,
 "nbformat_minor": 5
}
