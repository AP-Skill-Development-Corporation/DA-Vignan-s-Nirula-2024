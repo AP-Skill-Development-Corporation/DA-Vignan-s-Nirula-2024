{
 "cells": [
  {
   "cell_type": "markdown",
   "id": "1d21f6d1",
   "metadata": {},
   "source": [
    "<h4>NAME                                : BATHULAchathurya\n",
    "<h4>DOB                                 : 02-06-2005</h4>\n",
    "<h4>Email                               : 22nn1a0507chathuryaa@gmail.com\n",
    "<h4>Mobile Number                       : 8247874102</h4>  \n",
    "<h4>Education Qualification             : Btech 2nd year\n",
    "<h4>skills                              : c,c++,python\n",
    "<h4>Projects                            : CSP\n",
    "<h4>Areas Intrested                     : Reading books,learning new things"
   ]
  },
  {
   "cell_type": "code",
   "execution_count": null,
   "id": "df9ce157",
   "metadata": {},
   "outputs": [],
   "source": []
  }
 ],
 "metadata": {
  "kernelspec": {
   "display_name": "Python 3 (ipykernel)",
   "language": "python",
   "name": "python3"
  },
  "language_info": {
   "codemirror_mode": {
    "name": "ipython",
    "version": 3
   },
   "file_extension": ".py",
   "mimetype": "text/x-python",
   "name": "python",
   "nbconvert_exporter": "python",
   "pygments_lexer": "ipython3",
   "version": "3.11.5"
  }
 },
 "nbformat": 4,
 "nbformat_minor": 5
}
