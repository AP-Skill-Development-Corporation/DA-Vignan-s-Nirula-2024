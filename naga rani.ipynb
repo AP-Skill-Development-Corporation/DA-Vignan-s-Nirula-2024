{
 "cells": [
  {
   "cell_type": "markdown",
   "id": "31af2aa4",
   "metadata": {},
   "source": [
    "#### Resume\n",
    "- Name\n",
    "  - Seelamneni Nagarani\n",
    "- Qualification\n",
    "  - B.tech 2nd year\n",
    "- photo \n",
    "  <img src=\"naga.jpg\" height=\"80px\" width=\"90px\"></img>\n",
    "- Email id\n",
    "  -22nn1a0551nagarani@gmail.com\n",
    "  - phone number\n",
    "    - 8639412416\n",
    "   - Skills\n",
    "     - C,C++,Python\n",
    "   - Project\n",
    "     - Snake game design\n",
    "     - Netflix web page disign\n",
    "   - Certificates\n",
    "     - the joy of computing through python\n",
    "     - Infosys certificate on fundamentals on python\n",
    "     - Infosys certificate on part-1 python\n",
    "     - Infosys certificate on part-2 python"
   ]
  },
  {
   "cell_type": "code",
   "execution_count": null,
   "id": "09c1a5c2",
   "metadata": {},
   "outputs": [],
   "source": []
  }
 ],
 "metadata": {
  "kernelspec": {
   "display_name": "Python 3 (ipykernel)",
   "language": "python",
   "name": "python3"
  },
  "language_info": {
   "codemirror_mode": {
    "name": "ipython",
    "version": 3
   },
   "file_extension": ".py",
   "mimetype": "text/x-python",
   "name": "python",
   "nbconvert_exporter": "python",
   "pygments_lexer": "ipython3",
   "version": "3.11.5"
  }
 },
 "nbformat": 4,
 "nbformat_minor": 5
}
