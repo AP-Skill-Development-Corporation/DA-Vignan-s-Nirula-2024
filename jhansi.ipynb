{
 "cells": [
  {
   "cell_type": "markdown",
   "id": "e3f7dfc0",
   "metadata": {},
   "source": [
    "<center>\n",
    "    <h1><u>My resume</u></h1>\n",
    "</center>\n",
    "<body>\n",
    "   <th bgcolour=\"green\" align=\"left\" width=\"45%\"></th>\n",
    "   </body>\n",
    "   <h2>profile</h2>\n",
    "   <img src=\"jhansi rani.jpg\" height=\"88px\" width=\"99px\"></img>\n",
    "   <h2>details</h2>\n",
    "   <li>Name:v.jhansi rani</li>\n",
    "   <li>Mobile:8096522153 <li>\n",
    "   <li>Email:vasantajhansi@gmail.com</li>\n",
    "   <h2>Education Qualification</h2>\n",
    "   <h3>Graduation:</h3>\n",
    "   <li>college:Vignans Nirula Institute of Technology and Science for Women</li>\n",
    "   <li>Degree:B.Tech</li>\n",
    "   <li>Branch:Computer Science and Engineering</li>\n",
    "   <li>CGPA:8.46</li>\n",
    "   <h3>Intermediate</h3>\n",
    "   <li>College:scholars junior college</li>\n",
    "   <li>Group:M.P.C</li>\n",
    "   <li>percentage:8.7</li>\n",
    "   <h3>ssc</h3>\n",
    "   <li>School:sri bhanodaya english medium school</li>\n",
    "   <li>percentage:96.2</li>\n",
    "   <h2>skills</h2>\n",
    "   <li>C programming</li>\n",
    "   <li>python</li>\n",
    "   <h3>project</h3>\n",
    "   <li>community service project</li> "
   ]
  },
  {
   "cell_type": "code",
   "execution_count": null,
   "id": "6fe87939",
   "metadata": {},
   "outputs": [],
   "source": []
  }
 ],
 "metadata": {
  "kernelspec": {
   "display_name": "Python 3 (ipykernel)",
   "language": "python",
   "name": "python3"
  },
  "language_info": {
   "codemirror_mode": {
    "name": "ipython",
    "version": 3
   },
   "file_extension": ".py",
   "mimetype": "text/x-python",
   "name": "python",
   "nbconvert_exporter": "python",
   "pygments_lexer": "ipython3",
   "version": "3.11.5"
  }
 },
 "nbformat": 4,
 "nbformat_minor": 5
}
