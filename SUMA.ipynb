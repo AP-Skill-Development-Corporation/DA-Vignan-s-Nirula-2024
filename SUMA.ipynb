{
 "cells": [
  {
   "cell_type": "markdown",
   "id": "cf34aab2",
   "metadata": {},
   "source": [
    "<h1 style=\"color:black;text-align:center\">RESUME</h1>\n",
    "<img src=\"suma.jpg\" height=\"90px\" width=\"90px\" style=\"float: right; margin: 0 0 10px 10px\"></img>"
   ]
  },
  {
   "cell_type": "markdown",
   "id": "59ac6646",
   "metadata": {},
   "source": []
  },
  {
   "cell_type": "code",
   "execution_count": null,
   "id": "b5611a2d",
   "metadata": {},
   "outputs": [],
   "source": []
  }
 ],
 "metadata": {
  "kernelspec": {
   "display_name": "Python 3 (ipykernel)",
   "language": "python",
   "name": "python3"
  },
  "language_info": {
   "codemirror_mode": {
    "name": "ipython",
    "version": 3
   },
   "file_extension": ".py",
   "mimetype": "text/x-python",
   "name": "python",
   "nbconvert_exporter": "python",
   "pygments_lexer": "ipython3",
   "version": "3.11.5"
  }
 },
 "nbformat": 4,
 "nbformat_minor": 5
}
