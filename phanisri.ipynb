{
 "cells": [
  {
   "cell_type": "markdown",
   "id": "6f73579d",
   "metadata": {},
   "source": [
    "<h1 style=\"color:black;background-color:white;text-align:center\">RESUME</h1>\n",
    "<h2 style=\"color:black;background-color:white\">Profile:</h2>\n",
    "<h4>Diploma holder in Computer Science and Engineering with a strong foundation in programming and a keen intreset in  contributing to innovating projects.Eager to apply technical skills and drive for excellence in a dynamin professional environment.</h4>\n",
    "<h2 style=\"color:black;background-color:white\">Personal Information:</h2>\n",
    "<h4>NAME                    :  Cherukuri Naga Phani Sri</h4>\n",
    "<h4>DOB                     :  26-05-2005</h4>\n",
    "<h4>Email                   :  phanisricherukuri26@gmail.com</h4>\n",
    "<h4>Mobile Number           :  6304618760</h4>\n",
    "<h2 style=\"color:black;background-color:white\">EDUCATION:</h2>\n",
    "<h4>Name of the school      :  Bhashyam intitutions</h4>\n",
    "<h4>SSC GPA                 :  10GPA</h4>\n",
    "<h4>Name of the college(Inter/Diploma) : A.A.N.M & V.V.RS.R Polytechnic</h4>\n",
    "<h4>CGPA/Percentage         :83.4%</h4>\n",
    "<h4>Degree : Btech</h4>\n",
    "<h4>Name of the college : Vignan's Nirula Institute of Technology and Science for Women</h4>\n",
    "<h4>Course : Computer Science and Engineering</h4>\n",
    "<h2 style=\"color:black;background-color:white\">SKILLS:</h2>\n",
    "<h4>C,C++,JAVA,PYTHON,Web Scripts(html,css,php),Computer Networking,Operating Systems</h4>\n",
    "<h2 style=\"color:black;background-color:white\">INTERNSHIP:</h2>\n",
    "<h4>Completed 6 months intership on Database Centralization in department of Customer Service(CS) in Efftronics Systems Pvt.Ltd</h4>\n",
    "<h2 style=\"color:black;background-color:white\">Areas Intersted:</h2>\n",
    "<h4>Listening Music,Playing shuttle,Learning new technologies</h4> \n",
    "<h2 style=\"color:black;background-color:white\">Declaration:</h2>\n",
    "<h4>I hereby declare that the information furnished above are true and correct to  the best of my knowledge</h4> "
   ]
  }
 ],
 "metadata": {
  "kernelspec": {
   "display_name": "Python 3 (ipykernel)",
   "language": "python",
   "name": "python3"
  },
  "language_info": {
   "codemirror_mode": {
    "name": "ipython",
    "version": 3
   },
   "file_extension": ".py",
   "mimetype": "text/x-python",
   "name": "python",
   "nbconvert_exporter": "python",
   "pygments_lexer": "ipython3",
   "version": "3.11.5"
  }
 },
 "nbformat": 4,
 "nbformat_minor": 5
}
