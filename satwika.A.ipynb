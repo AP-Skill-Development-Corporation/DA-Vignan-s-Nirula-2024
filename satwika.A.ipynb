{
 "cells": [
  {
   "cell_type": "markdown",
   "id": "0763d6b7",
   "metadata": {},
   "source": [
    "#### Build your  resume\n",
    "- profile\n",
    "- name,phoneno,email\n",
    "- educational qualification\n",
    "- skill\n",
    "- project\n",
    "- areas of intrest"
   ]
  },
  {
   "cell_type": "markdown",
   "id": "7d12ce29",
   "metadata": {},
   "source": [
    "<h3 style=\"color:white;background-color:green;text-align:center\">profile</h3>\n",
    "<img src=\"picture.jpg\"height=\"80px\" width=\"90px\"></img>\n",
    "\n",
    "# Lakshmi Sathvika\n",
    "- guntur,india\n",
    "- 6302736642\n",
    "- lakshmisathvika960@gmail.com\n",
    "\n",
    "<h3 style=\"color:white;background-color:green;text-align:center\">Educational Qualification</h3>\n",
    "\n",
    "### **vignan's nirula**,CSE \n",
    "-  CGPA:8.3\n",
    "\n",
    "### **JRR Navodaya Junior College**,MPC\n",
    "- percentage:96%\n",
    "\n",
    "### **Akahara School**,SSC\n",
    "- percentage:96%\n",
    "\n",
    "<h3 style=\"color:white;background-color:green;text-align:center\">Skills</h3>\n",
    "\n",
    "### C\n",
    "### Python\n",
    "### HTML\n",
    "### CSS\n",
    "### C++\n",
    "\n",
    "<h3 style=\"color:white;background-color:green;text-align:center\">Projects</h3>\n",
    "\n",
    "### Community Service Project\n",
    "- Adverse Effects of Pesticides on Soil\n",
    "\n",
    "<h3 style=\"color:white;background-color:green;text-align:center\">Certifications</h3>\n",
    "\n",
    "### The Joy of Computing using Python ,NPTEL\n",
    "### Programming Fundamentals using Python - Part 1,Infosys\n",
    "### Programming Fundamentals using Python - Part 2,Infosys\n",
    "\n",
    "<h3 style=\"color:white;background-color:green;text-align:center\">Areas of intrests</h3>\n",
    "\n",
    "### Web development\n",
    "### Cyber Security"
   ]
  },
  {
   "cell_type": "code",
   "execution_count": null,
   "id": "5fe97bf1",
   "metadata": {},
   "outputs": [],
   "source": []
  }
 ],
 "metadata": {
  "kernelspec": {
   "display_name": "Python 3 (ipykernel)",
   "language": "python",
   "name": "python3"
  },
  "language_info": {
   "codemirror_mode": {
    "name": "ipython",
    "version": 3
   },
   "file_extension": ".py",
   "mimetype": "text/x-python",
   "name": "python",
   "nbconvert_exporter": "python",
   "pygments_lexer": "ipython3",
   "version": "3.11.5"
  }
 },
 "nbformat": 4,
 "nbformat_minor": 5
}
