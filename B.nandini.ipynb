{
 "cells": [
  {
   "cell_type": "markdown",
   "id": "f08c98c7",
   "metadata": {},
   "source": [
    "<h4 style=\"color:black\">PROFILE:<img src=\"profile1.jpg\" height=\"88px\" width=\"90px \"></img></h4>\n",
    "<h4>NAME         :   Nandini.Bommisetti</h4>\n",
    "<h4>MOBILE NO    :   8639597123</h4>\n",
    "<h4>EMAIL        :   nandinibhupathivarma@gmail.com</h4>\n",
    "<h4>EDUCATIONAL QUALIFICATION  :  Pursuing Btech</h4>\n",
    "<h4>SKILLS       :   Talkitive,Good Speaking,Bugs detection</h4>\n",
    "<h4>PROJECTS     :   Done a mini project on mini project[snake game]</h4>\n",
    "<h4>AREA OF INTEREST  :  Reading books,Browsing net</h4>"
   ]
  },
  {
   "cell_type": "code",
   "execution_count": null,
   "id": "157a0e53",
   "metadata": {},
   "outputs": [],
   "source": []
  }
 ],
 "metadata": {
  "kernelspec": {
   "display_name": "Python 3 (ipykernel)",
   "language": "python",
   "name": "python3"
  },
  "language_info": {
   "codemirror_mode": {
    "name": "ipython",
    "version": 3
   },
   "file_extension": ".py",
   "mimetype": "text/x-python",
   "name": "python",
   "nbconvert_exporter": "python",
   "pygments_lexer": "ipython3",
   "version": "3.11.5"
  }
 },
 "nbformat": 4,
 "nbformat_minor": 5
}
