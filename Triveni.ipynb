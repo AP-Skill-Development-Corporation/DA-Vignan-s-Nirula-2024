{
 "cells": [
  {
   "cell_type": "markdown",
   "id": "2c51e1b0",
   "metadata": {},
   "source": [
    "### RESUME\n",
    "- **Profile**\n",
    "   - Name\n",
    "       - Dasari Triveni\n",
    "   - Family Status\n",
    "      - Parents\n",
    "         - Dasari Srinivasa Rao,Dasari Parvathi\n",
    "      - Brother   \n",
    "         - Dasari Durga Rao\n",
    "   - From\n",
    "     - Guntur\n",
    "   - Email Id\n",
    "     - dasaritriveni7396@gmail.com\n",
    "   - Phone number\n",
    "     - 7396316269     \n",
    "     \n",
    "- **Educational Qualifications**    \n",
    "   - SSC\n",
    "      - Grace EM High School,vijayawada\n",
    "      - passing year-2020\n",
    "      - Percentage- 570\n",
    "   - Intermediate\n",
    "      - Sri Chaitanya Co-Ed College,Vijayawada\n",
    "      - passing year- 2022\n",
    "      - Percentage- 961\n",
    "   - B.tech\n",
    "      - 1st year\n",
    "         - 1-1 sem CGPA-8.92\n",
    "         - 1-2 sem CGPA-8.62\n",
    "      - current pursuing 2nd year\n",
    "- **Skills**\n",
    "   - c,c++,python\n",
    "- **Projects**\n",
    "   - community service project\n",
    "       - Awareness Of Certification Marks Issued on Food Products\n",
    "- **Interested In**       \n",
    "   - interested in learning programming languages\n",
    "- **Certificates**\n",
    "   - Infosys certificate on \"fundamentals on python\"\n",
    "   - Infosys certificate on \"part-1 on python\"\n",
    "   - Infosys certificate on \"part-2 on python\"\n",
    "   "
   ]
  },
  {
   "cell_type": "markdown",
   "id": "a9c10567",
   "metadata": {},
   "source": []
  }
 ],
 "metadata": {
  "kernelspec": {
   "display_name": "Python 3 (ipykernel)",
   "language": "python",
   "name": "python3"
  },
  "language_info": {
   "codemirror_mode": {
    "name": "ipython",
    "version": 3
   },
   "file_extension": ".py",
   "mimetype": "text/x-python",
   "name": "python",
   "nbconvert_exporter": "python",
   "pygments_lexer": "ipython3",
   "version": "3.11.5"
  }
 },
 "nbformat": 4,
 "nbformat_minor": 5
}
