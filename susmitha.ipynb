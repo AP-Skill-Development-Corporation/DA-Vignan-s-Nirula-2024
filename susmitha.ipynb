{
 "cells": [
  {
   "cell_type": "markdown",
   "id": "3ab7688d",
   "metadata": {},
   "source": [
    "<center>\n",
    "   <h3><u>My Resume</u></h3>\n",
    "</center>"
   ]
  },
  {
   "cell_type": "markdown",
   "id": "226b2e3e",
   "metadata": {},
   "source": [
    "<html>\n",
    "<h2><u> Profile :-</u><h2> \n",
    "<img src= img.jpg align =\"left\" height=\"100px\" width=\"100px\" border=\"1\"><br><br><br>\n",
    "<h2><u><br>Details :-</u></h2><br>\n",
    "<li>Name:somasani susmitha</li>\n",
    "<li>Branch: CSE</li>\n",
    "<li>Pursuing Year: IInd year</li>\n",
    "</html>\n",
    "<h2><u> Contact :-</u></h2>\n",
    "<li>mobile No: +91 9390174178</li>\n",
    "<li>Email: 22nn1a0554susmitha@gmail.com</li>\n",
    "<h2><u> Education Qualifications :-</u></h2>\n",
    "\n",
    "\n",
    "<table align=\"left\" width=\"380px\" border=3 boder:1px solid black>\n",
    "<tr>\n",
    "<td align=\"left\"><b>Course</b></td>\n",
    "<td align=\"left\"><b>Institute</b></td>\n",
    "<td align=\"left\"><b>Percentage</b></td>\n",
    "</tr>\n",
    "    \n",
    "    \n",
    "<tr>\n",
    "<td align=\"left\" >10th</td>\n",
    "<td align=\"left\">Good News English Medium High School</td>\n",
    "<td align=\"left\">99%</td>\n",
    "</tr>\n",
    "    \n",
    "    \n",
    "<tr>\n",
    "<td align=\"left\" >inter</td>\n",
    "<td align=\"left\" > J.R.R. Navodaya Junior College</td>\n",
    "<td align=\"left\" >94.1%</td>\n",
    "</tr>\n",
    "    \n",
    "    \n",
    "<tr>\n",
    "<td align=\"left\" > B.tech</td>\n",
    "<td align=\"left\"> vignan Nirula</td>\n",
    "<td alig=\"left\" >75%</td>\n",
    " "
   ]
  },
  {
   "cell_type": "markdown",
   "id": "377b4469",
   "metadata": {},
   "source": [
    "<h2><u> Skills :-</u></h2><br>\n",
    "<li> communication skills</li>\n",
    "<li> programming skills in c, python</li>\n",
    "<li>learning skills</li>\n",
    "<h2><u>Achivements :-</u></h2><br>\n",
    "<li>I achived NPTL Elite certificate in \"the joy of computing using python\"</li>\n",
    "<li>I achived a two \"infosys spring board\"  certificates </li>\n",
    "<li> I have some programming participation cartificates</li>"
   ]
  },
  {
   "cell_type": "code",
   "execution_count": null,
   "id": "9255d58e",
   "metadata": {},
   "outputs": [],
   "source": []
  }
 ],
 "metadata": {
  "kernelspec": {
   "display_name": "Python 3 (ipykernel)",
   "language": "python",
   "name": "python3"
  },
  "language_info": {
   "codemirror_mode": {
    "name": "ipython",
    "version": 3
   },
   "file_extension": ".py",
   "mimetype": "text/x-python",
   "name": "python",
   "nbconvert_exporter": "python",
   "pygments_lexer": "ipython3",
   "version": "3.11.5"
  }
 },
 "nbformat": 4,
 "nbformat_minor": 5
}
