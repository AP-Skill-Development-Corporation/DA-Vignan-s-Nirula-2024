{
 "cells": [
  {
   "cell_type": "markdown",
   "id": "4900dce6",
   "metadata": {},
   "source": [
    "### Resume\n",
    "- **Profile**\n",
    "    - *Image:*\n",
    "        - <img src=\"anitha.jpg\" height=\"2in\" width=\"2in\"></img>\n",
    "    - *Name:*\n",
    "        - Tellamekala Anitha\n",
    "    - *Date of Birth:*\n",
    "        - 29-11-2004\n",
    "    - *Phone No:*\n",
    "        - +919676136306\n",
    "    - *Email-Id:*\n",
    "        - 22NN1A0556anitha@gmail.com\n",
    "- **Educational Qualification:**\n",
    "    - *SSC*\n",
    "        - vision high school\n",
    "        - Passing year-2020\n",
    "        - Percentage-96\n",
    "    - *Intermediate*\n",
    "        - RK junior kalashala\n",
    "        - Passing year-2022\n",
    "        - Percentage-91\n",
    "    - *Btech*\n",
    "        - Vignan's Nirula Institute Of Technology And Sciences For Women\n",
    "            - 1st Btech\n",
    "                - 1st sem CGPA-7.1\n",
    "                - 2nd sem CGPA-7.2\n",
    "       \n",
    "    - *CSP(Community Service Project)* \n",
    "        - Name of the project is role of education in the rural development\n",
    "        - Done in the 1st btech 2nd sem\n",
    "- **Areas of Interest**\n",
    "    - Interested in learning programming languages,travelling and playing sports\n",
    "- **Certificates**\n",
    "    - Nptel Certificate in The Joy Of Computing In Python\n",
    "    - Infosys Spring Board Certificates on Fundamentals of Python\n",
    "        - Certificate on part-1 Fundamentals Of Python\n",
    "        - Certificate on part-2 in Fundamentals Of Python\n",
    "        - Current pursuing 2nd year \n",
    "- **Skills**\n",
    "    - *Programming Languages*\n",
    "        - C,C++,Python\n",
    "- **Projects**"
   ]
  },
  {
   "cell_type": "code",
   "execution_count": null,
   "id": "e2d3dc82",
   "metadata": {},
   "outputs": [],
   "source": []
  },
  {
   "cell_type": "markdown",
   "id": "84c5f2d0",
   "metadata": {},
   "source": []
  },
  {
   "cell_type": "code",
   "execution_count": null,
   "id": "7b6d687e",
   "metadata": {},
   "outputs": [],
   "source": []
  }
 ],
 "metadata": {
  "kernelspec": {
   "display_name": "Python 3 (ipykernel)",
   "language": "python",
   "name": "python3"
  },
  "language_info": {
   "codemirror_mode": {
    "name": "ipython",
    "version": 3
   },
   "file_extension": ".py",
   "mimetype": "text/x-python",
   "name": "python",
   "nbconvert_exporter": "python",
   "pygments_lexer": "ipython3",
   "version": "3.11.5"
  }
 },
 "nbformat": 4,
 "nbformat_minor": 5
}
